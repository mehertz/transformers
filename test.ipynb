{
 "cells": [
  {
   "cell_type": "code",
   "execution_count": 2,
   "metadata": {},
   "outputs": [],
   "source": [
    "import torch\n",
    "import tiktoken\n",
    "from train import GPT\n",
    "from torchinfo import summary\n",
    "\n",
    "tokenizer = tiktoken.get_encoding(\"gpt2\")"
   ]
  },
  {
   "cell_type": "code",
   "execution_count": null,
   "metadata": {},
   "outputs": [
    {
     "name": "stdout",
     "output_type": "stream",
     "text": [
      "torch.Size([2, 5, 50257])\n"
     ]
    }
   ],
   "source": [
    "torch.manual_seed(1234)\n",
    "gpt = GPT(\n",
    "    vocab_size=50257,\n",
    "    context_length=1024,\n",
    "    emb_dim=768,\n",
    "    ff_int_dim_mult=4,\n",
    "    n_heads=12,\n",
    "    n_layers=12,\n",
    "    drop_rate=0.1,\n",
    ")\n",
    "\n",
    "out = gpt(torch.randint(low=0, high=50257, size=(2, 5)))\n",
    "print(out.shape)"
   ]
  },
  {
   "cell_type": "code",
   "execution_count": 15,
   "metadata": {},
   "outputs": [
    {
     "data": {
      "text/plain": [
       "[4342, 318, 617, 2420, 50256, 3549, 2420]"
      ]
     },
     "execution_count": 15,
     "metadata": {},
     "output_type": "execute_result"
    }
   ],
   "source": [
    "tokenizer = tiktoken.get_encoding(\"gpt2\")\n",
    "\n",
    "tokenizer.decode([50256])\n",
    "\n",
    "text = \"Here is some text<|endoftext|>more text\"\n",
    "tokenizer.encode(text, allowed_special={'<|endoftext|>'})"
   ]
  },
  {
   "cell_type": "code",
   "execution_count": null,
   "metadata": {},
   "outputs": [
    {
     "name": "stdout",
     "output_type": "stream",
     "text": [
      "+----------------------------------------+------------+\n",
      "|                Modules                 | Parameters |\n",
      "+----------------------------------------+------------+\n",
      "|            embedding.weight            |  38597376  |\n",
      "|      positional_embedding.weight       |   786432   |\n",
      "|       transformers.0.ln_1.weight       |    768     |\n",
      "|        transformers.0.ln_1.bias        |    768     |\n",
      "| transformers.0.attention.q_mat.weight  |   589824   |\n",
      "| transformers.0.attention.k_mat.weight  |   589824   |\n",
      "| transformers.0.attention.v_mat.weight  |   589824   |\n",
      "|  transformers.0.attention.out.weight   |   589824   |\n",
      "|   transformers.0.attention.out.bias    |    768     |\n",
      "|       transformers.0.ln_2.weight       |    768     |\n",
      "|        transformers.0.ln_2.bias        |    768     |\n",
      "|    transformers.0.MLP.in_ff.weight     |  2359296   |\n",
      "|     transformers.0.MLP.in_ff.bias      |    3072    |\n",
      "|    transformers.0.MLP.out_ff.weight    |  2359296   |\n",
      "|     transformers.0.MLP.out_ff.bias     |    768     |\n",
      "|       transformers.1.ln_1.weight       |    768     |\n",
      "|        transformers.1.ln_1.bias        |    768     |\n",
      "| transformers.1.attention.q_mat.weight  |   589824   |\n",
      "| transformers.1.attention.k_mat.weight  |   589824   |\n",
      "| transformers.1.attention.v_mat.weight  |   589824   |\n",
      "|  transformers.1.attention.out.weight   |   589824   |\n",
      "|   transformers.1.attention.out.bias    |    768     |\n",
      "|       transformers.1.ln_2.weight       |    768     |\n",
      "|        transformers.1.ln_2.bias        |    768     |\n",
      "|    transformers.1.MLP.in_ff.weight     |  2359296   |\n",
      "|     transformers.1.MLP.in_ff.bias      |    3072    |\n",
      "|    transformers.1.MLP.out_ff.weight    |  2359296   |\n",
      "|     transformers.1.MLP.out_ff.bias     |    768     |\n",
      "|       transformers.2.ln_1.weight       |    768     |\n",
      "|        transformers.2.ln_1.bias        |    768     |\n",
      "| transformers.2.attention.q_mat.weight  |   589824   |\n",
      "| transformers.2.attention.k_mat.weight  |   589824   |\n",
      "| transformers.2.attention.v_mat.weight  |   589824   |\n",
      "|  transformers.2.attention.out.weight   |   589824   |\n",
      "|   transformers.2.attention.out.bias    |    768     |\n",
      "|       transformers.2.ln_2.weight       |    768     |\n",
      "|        transformers.2.ln_2.bias        |    768     |\n",
      "|    transformers.2.MLP.in_ff.weight     |  2359296   |\n",
      "|     transformers.2.MLP.in_ff.bias      |    3072    |\n",
      "|    transformers.2.MLP.out_ff.weight    |  2359296   |\n",
      "|     transformers.2.MLP.out_ff.bias     |    768     |\n",
      "|       transformers.3.ln_1.weight       |    768     |\n",
      "|        transformers.3.ln_1.bias        |    768     |\n",
      "| transformers.3.attention.q_mat.weight  |   589824   |\n",
      "| transformers.3.attention.k_mat.weight  |   589824   |\n",
      "| transformers.3.attention.v_mat.weight  |   589824   |\n",
      "|  transformers.3.attention.out.weight   |   589824   |\n",
      "|   transformers.3.attention.out.bias    |    768     |\n",
      "|       transformers.3.ln_2.weight       |    768     |\n",
      "|        transformers.3.ln_2.bias        |    768     |\n",
      "|    transformers.3.MLP.in_ff.weight     |  2359296   |\n",
      "|     transformers.3.MLP.in_ff.bias      |    3072    |\n",
      "|    transformers.3.MLP.out_ff.weight    |  2359296   |\n",
      "|     transformers.3.MLP.out_ff.bias     |    768     |\n",
      "|       transformers.4.ln_1.weight       |    768     |\n",
      "|        transformers.4.ln_1.bias        |    768     |\n",
      "| transformers.4.attention.q_mat.weight  |   589824   |\n",
      "| transformers.4.attention.k_mat.weight  |   589824   |\n",
      "| transformers.4.attention.v_mat.weight  |   589824   |\n",
      "|  transformers.4.attention.out.weight   |   589824   |\n",
      "|   transformers.4.attention.out.bias    |    768     |\n",
      "|       transformers.4.ln_2.weight       |    768     |\n",
      "|        transformers.4.ln_2.bias        |    768     |\n",
      "|    transformers.4.MLP.in_ff.weight     |  2359296   |\n",
      "|     transformers.4.MLP.in_ff.bias      |    3072    |\n",
      "|    transformers.4.MLP.out_ff.weight    |  2359296   |\n",
      "|     transformers.4.MLP.out_ff.bias     |    768     |\n",
      "|       transformers.5.ln_1.weight       |    768     |\n",
      "|        transformers.5.ln_1.bias        |    768     |\n",
      "| transformers.5.attention.q_mat.weight  |   589824   |\n",
      "| transformers.5.attention.k_mat.weight  |   589824   |\n",
      "| transformers.5.attention.v_mat.weight  |   589824   |\n",
      "|  transformers.5.attention.out.weight   |   589824   |\n",
      "|   transformers.5.attention.out.bias    |    768     |\n",
      "|       transformers.5.ln_2.weight       |    768     |\n",
      "|        transformers.5.ln_2.bias        |    768     |\n",
      "|    transformers.5.MLP.in_ff.weight     |  2359296   |\n",
      "|     transformers.5.MLP.in_ff.bias      |    3072    |\n",
      "|    transformers.5.MLP.out_ff.weight    |  2359296   |\n",
      "|     transformers.5.MLP.out_ff.bias     |    768     |\n",
      "|       transformers.6.ln_1.weight       |    768     |\n",
      "|        transformers.6.ln_1.bias        |    768     |\n",
      "| transformers.6.attention.q_mat.weight  |   589824   |\n",
      "| transformers.6.attention.k_mat.weight  |   589824   |\n",
      "| transformers.6.attention.v_mat.weight  |   589824   |\n",
      "|  transformers.6.attention.out.weight   |   589824   |\n",
      "|   transformers.6.attention.out.bias    |    768     |\n",
      "|       transformers.6.ln_2.weight       |    768     |\n",
      "|        transformers.6.ln_2.bias        |    768     |\n",
      "|    transformers.6.MLP.in_ff.weight     |  2359296   |\n",
      "|     transformers.6.MLP.in_ff.bias      |    3072    |\n",
      "|    transformers.6.MLP.out_ff.weight    |  2359296   |\n",
      "|     transformers.6.MLP.out_ff.bias     |    768     |\n",
      "|       transformers.7.ln_1.weight       |    768     |\n",
      "|        transformers.7.ln_1.bias        |    768     |\n",
      "| transformers.7.attention.q_mat.weight  |   589824   |\n",
      "| transformers.7.attention.k_mat.weight  |   589824   |\n",
      "| transformers.7.attention.v_mat.weight  |   589824   |\n",
      "|  transformers.7.attention.out.weight   |   589824   |\n",
      "|   transformers.7.attention.out.bias    |    768     |\n",
      "|       transformers.7.ln_2.weight       |    768     |\n",
      "|        transformers.7.ln_2.bias        |    768     |\n",
      "|    transformers.7.MLP.in_ff.weight     |  2359296   |\n",
      "|     transformers.7.MLP.in_ff.bias      |    3072    |\n",
      "|    transformers.7.MLP.out_ff.weight    |  2359296   |\n",
      "|     transformers.7.MLP.out_ff.bias     |    768     |\n",
      "|       transformers.8.ln_1.weight       |    768     |\n",
      "|        transformers.8.ln_1.bias        |    768     |\n",
      "| transformers.8.attention.q_mat.weight  |   589824   |\n",
      "| transformers.8.attention.k_mat.weight  |   589824   |\n",
      "| transformers.8.attention.v_mat.weight  |   589824   |\n",
      "|  transformers.8.attention.out.weight   |   589824   |\n",
      "|   transformers.8.attention.out.bias    |    768     |\n",
      "|       transformers.8.ln_2.weight       |    768     |\n",
      "|        transformers.8.ln_2.bias        |    768     |\n",
      "|    transformers.8.MLP.in_ff.weight     |  2359296   |\n",
      "|     transformers.8.MLP.in_ff.bias      |    3072    |\n",
      "|    transformers.8.MLP.out_ff.weight    |  2359296   |\n",
      "|     transformers.8.MLP.out_ff.bias     |    768     |\n",
      "|       transformers.9.ln_1.weight       |    768     |\n",
      "|        transformers.9.ln_1.bias        |    768     |\n",
      "| transformers.9.attention.q_mat.weight  |   589824   |\n",
      "| transformers.9.attention.k_mat.weight  |   589824   |\n",
      "| transformers.9.attention.v_mat.weight  |   589824   |\n",
      "|  transformers.9.attention.out.weight   |   589824   |\n",
      "|   transformers.9.attention.out.bias    |    768     |\n",
      "|       transformers.9.ln_2.weight       |    768     |\n",
      "|        transformers.9.ln_2.bias        |    768     |\n",
      "|    transformers.9.MLP.in_ff.weight     |  2359296   |\n",
      "|     transformers.9.MLP.in_ff.bias      |    3072    |\n",
      "|    transformers.9.MLP.out_ff.weight    |  2359296   |\n",
      "|     transformers.9.MLP.out_ff.bias     |    768     |\n",
      "|      transformers.10.ln_1.weight       |    768     |\n",
      "|       transformers.10.ln_1.bias        |    768     |\n",
      "| transformers.10.attention.q_mat.weight |   589824   |\n",
      "| transformers.10.attention.k_mat.weight |   589824   |\n",
      "| transformers.10.attention.v_mat.weight |   589824   |\n",
      "|  transformers.10.attention.out.weight  |   589824   |\n",
      "|   transformers.10.attention.out.bias   |    768     |\n",
      "|      transformers.10.ln_2.weight       |    768     |\n",
      "|       transformers.10.ln_2.bias        |    768     |\n",
      "|    transformers.10.MLP.in_ff.weight    |  2359296   |\n",
      "|     transformers.10.MLP.in_ff.bias     |    3072    |\n",
      "|   transformers.10.MLP.out_ff.weight    |  2359296   |\n",
      "|    transformers.10.MLP.out_ff.bias     |    768     |\n",
      "|      transformers.11.ln_1.weight       |    768     |\n",
      "|       transformers.11.ln_1.bias        |    768     |\n",
      "| transformers.11.attention.q_mat.weight |   589824   |\n",
      "| transformers.11.attention.k_mat.weight |   589824   |\n",
      "| transformers.11.attention.v_mat.weight |   589824   |\n",
      "|  transformers.11.attention.out.weight  |   589824   |\n",
      "|   transformers.11.attention.out.bias   |    768     |\n",
      "|      transformers.11.ln_2.weight       |    768     |\n",
      "|       transformers.11.ln_2.bias        |    768     |\n",
      "|    transformers.11.MLP.in_ff.weight    |  2359296   |\n",
      "|     transformers.11.MLP.in_ff.bias     |    3072    |\n",
      "|   transformers.11.MLP.out_ff.weight    |  2359296   |\n",
      "|    transformers.11.MLP.out_ff.bias     |    768     |\n",
      "|               ln.weight                |    768     |\n",
      "|                ln.bias                 |    768     |\n",
      "|             output.weight              |  38597376  |\n",
      "+----------------------------------------+------------+\n",
      "Total Trainable Params: 163009536\n"
     ]
    },
    {
     "data": {
      "text/plain": [
       "163009536"
      ]
     },
     "execution_count": 2,
     "metadata": {},
     "output_type": "execute_result"
    }
   ],
   "source": [
    "torch.manual_seed(123)\n",
    "gpt = GPT(\n",
    "    vocab_size=50257,\n",
    "    context_length=1024,\n",
    "    emb_dim=768,\n",
    "    ff_int_dim_mult=4,\n",
    "    n_heads=12,\n",
    "    n_layers=12,\n",
    "    drop_rate=0.1,\n",
    ")\n",
    "\n",
    "from prettytable import PrettyTable\n",
    "\n",
    "def count_parameters(model):\n",
    "    table = PrettyTable([\"Modules\", \"Parameters\"])\n",
    "    total_params = 0\n",
    "    for name, parameter in model.named_parameters():\n",
    "        if not parameter.requires_grad:\n",
    "            continue\n",
    "        params = parameter.numel()\n",
    "        table.add_row([name, params])\n",
    "        total_params += params\n",
    "    print(table)\n",
    "    print(f\"Total Trainable Params: {total_params}\")\n",
    "    return total_params\n",
    "    \n",
    "count_parameters(gpt)"
   ]
  },
  {
   "cell_type": "code",
   "execution_count": 4,
   "metadata": {},
   "outputs": [
    {
     "ename": "ValueError",
     "evalue": "Unknown encoding gpt2.\nPlugins found: ['tiktoken_ext.openai_public']\ntiktoken version: 0.8.0 (are you on latest?)",
     "output_type": "error",
     "traceback": [
      "\u001b[0;31m---------------------------------------------------------------------------\u001b[0m",
      "\u001b[0;31mValueError\u001b[0m                                Traceback (most recent call last)",
      "Cell \u001b[0;32mIn[4], line 5\u001b[0m\n\u001b[1;32m      2\u001b[0m \u001b[38;5;28;01mfrom\u001b[39;00m \u001b[38;5;21;01mtorch\u001b[39;00m\u001b[38;5;21;01m.\u001b[39;00m\u001b[38;5;21;01mutils\u001b[39;00m\u001b[38;5;21;01m.\u001b[39;00m\u001b[38;5;21;01mdata\u001b[39;00m \u001b[38;5;28;01mimport\u001b[39;00m DataLoader\n\u001b[1;32m      3\u001b[0m \u001b[38;5;28;01mimport\u001b[39;00m \u001b[38;5;21;01mtiktoken\u001b[39;00m\n\u001b[0;32m----> 5\u001b[0m tokenizer \u001b[38;5;241m=\u001b[39m \u001b[43mtiktoken\u001b[49m\u001b[38;5;241;43m.\u001b[39;49m\u001b[43mget_encoding\u001b[49m\u001b[43m(\u001b[49m\u001b[38;5;124;43m\"\u001b[39;49m\u001b[38;5;124;43mgpt2\u001b[39;49m\u001b[38;5;124;43m\"\u001b[39;49m\u001b[43m)\u001b[49m\n\u001b[1;32m      6\u001b[0m ds \u001b[38;5;241m=\u001b[39m TinyStoriesDataset(\u001b[38;5;124m'\u001b[39m\u001b[38;5;124m/teamspace/studios/this_studio/transformers/data/TinyStoriesV2-GPT4-train.txt\u001b[39m\u001b[38;5;124m'\u001b[39m, \u001b[38;5;241m1024\u001b[39m, tokenizer, end_story_idx\u001b[38;5;241m=\u001b[39m\u001b[38;5;241m150\u001b[39m)\n\u001b[1;32m      7\u001b[0m dl \u001b[38;5;241m=\u001b[39m DataLoader(ds, batch_size\u001b[38;5;241m=\u001b[39m\u001b[38;5;241m10\u001b[39m, shuffle\u001b[38;5;241m=\u001b[39m\u001b[38;5;28;01mTrue\u001b[39;00m)\n",
      "File \u001b[0;32m/home/zeus/miniconda3/envs/cloudspace/lib/python3.10/site-packages/tiktoken/registry.py:79\u001b[0m, in \u001b[0;36mget_encoding\u001b[0;34m(encoding_name)\u001b[0m\n\u001b[1;32m     76\u001b[0m     \u001b[38;5;28;01massert\u001b[39;00m ENCODING_CONSTRUCTORS \u001b[38;5;129;01mis\u001b[39;00m \u001b[38;5;129;01mnot\u001b[39;00m \u001b[38;5;28;01mNone\u001b[39;00m\n\u001b[1;32m     78\u001b[0m \u001b[38;5;28;01mif\u001b[39;00m encoding_name \u001b[38;5;129;01mnot\u001b[39;00m \u001b[38;5;129;01min\u001b[39;00m ENCODING_CONSTRUCTORS:\n\u001b[0;32m---> 79\u001b[0m     \u001b[38;5;28;01mraise\u001b[39;00m \u001b[38;5;167;01mValueError\u001b[39;00m(\n\u001b[1;32m     80\u001b[0m         \u001b[38;5;124mf\u001b[39m\u001b[38;5;124m\"\u001b[39m\u001b[38;5;124mUnknown encoding \u001b[39m\u001b[38;5;132;01m{\u001b[39;00mencoding_name\u001b[38;5;132;01m}\u001b[39;00m\u001b[38;5;124m.\u001b[39m\u001b[38;5;130;01m\\n\u001b[39;00m\u001b[38;5;124m\"\u001b[39m\n\u001b[1;32m     81\u001b[0m         \u001b[38;5;124mf\u001b[39m\u001b[38;5;124m\"\u001b[39m\u001b[38;5;124mPlugins found: \u001b[39m\u001b[38;5;132;01m{\u001b[39;00m_available_plugin_modules()\u001b[38;5;132;01m}\u001b[39;00m\u001b[38;5;130;01m\\n\u001b[39;00m\u001b[38;5;124m\"\u001b[39m\n\u001b[1;32m     82\u001b[0m         \u001b[38;5;124mf\u001b[39m\u001b[38;5;124m\"\u001b[39m\u001b[38;5;124mtiktoken version: \u001b[39m\u001b[38;5;132;01m{\u001b[39;00mtiktoken\u001b[38;5;241m.\u001b[39m__version__\u001b[38;5;132;01m}\u001b[39;00m\u001b[38;5;124m (are you on latest?)\u001b[39m\u001b[38;5;124m\"\u001b[39m\n\u001b[1;32m     83\u001b[0m     )\n\u001b[1;32m     85\u001b[0m constructor \u001b[38;5;241m=\u001b[39m ENCODING_CONSTRUCTORS[encoding_name]\n\u001b[1;32m     86\u001b[0m enc \u001b[38;5;241m=\u001b[39m Encoding(\u001b[38;5;241m*\u001b[39m\u001b[38;5;241m*\u001b[39mconstructor())\n",
      "\u001b[0;31mValueError\u001b[0m: Unknown encoding gpt2.\nPlugins found: ['tiktoken_ext.openai_public']\ntiktoken version: 0.8.0 (are you on latest?)"
     ]
    }
   ],
   "source": [
    "from train import TinyStoriesDataset\n",
    "from torch.utils.data import DataLoader\n",
    "import tiktoken\n",
    "\n",
    "tokenizer = tiktoken.get_encoding(\"gpt2\")\n",
    "ds = TinyStoriesDataset('/teamspace/studios/this_studio/transformers/data/TinyStoriesV2-GPT4-train.txt', 1024, tokenizer, end_story_idx=150)\n",
    "dl = DataLoader(ds, batch_size=10, shuffle=True)\n",
    "\n",
    "for input, target, paddings in dl:\n",
    "    print(\"input: \", input.shape)\n",
    "    print(\"output: \", target.shape)\n",
    "    print(\"paddings: \", paddings)\n"
   ]
  },
  {
   "cell_type": "code",
   "execution_count": 2,
   "metadata": {},
   "outputs": [
    {
     "ename": "KeyboardInterrupt",
     "evalue": "",
     "output_type": "error",
     "traceback": [
      "\u001b[0;31m---------------------------------------------------------------------------\u001b[0m",
      "\u001b[0;31mKeyboardInterrupt\u001b[0m                         Traceback (most recent call last)",
      "Cell \u001b[0;32mIn[2], line 15\u001b[0m\n\u001b[1;32m      4\u001b[0m torch\u001b[38;5;241m.\u001b[39mmanual_seed(\u001b[38;5;241m123\u001b[39m)\n\u001b[1;32m      5\u001b[0m gpt \u001b[38;5;241m=\u001b[39m GPT(\n\u001b[1;32m      6\u001b[0m     vocab_size\u001b[38;5;241m=\u001b[39m\u001b[38;5;241m50257\u001b[39m,\n\u001b[1;32m      7\u001b[0m     context_length\u001b[38;5;241m=\u001b[39m\u001b[38;5;241m128\u001b[39m,\n\u001b[0;32m   (...)\u001b[0m\n\u001b[1;32m     12\u001b[0m     drop_rate\u001b[38;5;241m=\u001b[39m\u001b[38;5;241m0.1\u001b[39m,\n\u001b[1;32m     13\u001b[0m )\n\u001b[0;32m---> 15\u001b[0m \u001b[43mtrain_gpt\u001b[49m\u001b[43m(\u001b[49m\u001b[43mgpt\u001b[49m\u001b[43m,\u001b[49m\u001b[43m \u001b[49m\u001b[43mbatch_size\u001b[49m\u001b[38;5;241;43m=\u001b[39;49m\u001b[38;5;241;43m2\u001b[39;49m\u001b[43m,\u001b[49m\u001b[43m \u001b[49m\u001b[43mnum_epochs\u001b[49m\u001b[38;5;241;43m=\u001b[39;49m\u001b[38;5;241;43m1\u001b[39;49m\u001b[43m)\u001b[49m\n",
      "File \u001b[0;32m~/transformers/MattGPT.py:309\u001b[0m, in \u001b[0;36mtrain_gpt\u001b[0;34m(model, batch_size, num_epochs, learning_rate, weight_decay)\u001b[0m\n\u001b[1;32m    302\u001b[0m         \u001b[38;5;28;01mcontinue\u001b[39;00m\n\u001b[1;32m    304\u001b[0m     tokens \u001b[38;5;241m=\u001b[39m tokenizer\u001b[38;5;241m.\u001b[39mencode(story\u001b[38;5;241m.\u001b[39mstrip())\n\u001b[1;32m    306\u001b[0m     data\u001b[38;5;241m.\u001b[39mappend({\n\u001b[1;32m    307\u001b[0m         \u001b[38;5;124m'\u001b[39m\u001b[38;5;124mstory_id\u001b[39m\u001b[38;5;124m'\u001b[39m: i,\n\u001b[1;32m    308\u001b[0m         \u001b[38;5;124m'\u001b[39m\u001b[38;5;124mstory_text\u001b[39m\u001b[38;5;124m'\u001b[39m: story\u001b[38;5;241m.\u001b[39mstrip(),\n\u001b[0;32m--> 309\u001b[0m         \u001b[38;5;124m'\u001b[39m\u001b[38;5;124mtokens\u001b[39m\u001b[38;5;124m'\u001b[39m: tokens,\n\u001b[1;32m    310\u001b[0m         \u001b[38;5;124m'\u001b[39m\u001b[38;5;124mtoken_length\u001b[39m\u001b[38;5;124m'\u001b[39m: \u001b[38;5;28mlen\u001b[39m(tokens)\n\u001b[1;32m    311\u001b[0m     })\n\u001b[1;32m    313\u001b[0m df \u001b[38;5;241m=\u001b[39m pd\u001b[38;5;241m.\u001b[39mDataFrame(data)\n\u001b[1;32m    314\u001b[0m df\u001b[38;5;241m.\u001b[39mto_parquet(parquet_path, index\u001b[38;5;241m=\u001b[39m\u001b[38;5;28;01mFalse\u001b[39;00m)\n",
      "File \u001b[0;32m~/transformers/MattGPT.py:309\u001b[0m, in \u001b[0;36mtrain_gpt\u001b[0;34m(model, batch_size, num_epochs, learning_rate, weight_decay)\u001b[0m\n\u001b[1;32m    302\u001b[0m         \u001b[38;5;28;01mcontinue\u001b[39;00m\n\u001b[1;32m    304\u001b[0m     tokens \u001b[38;5;241m=\u001b[39m tokenizer\u001b[38;5;241m.\u001b[39mencode(story\u001b[38;5;241m.\u001b[39mstrip())\n\u001b[1;32m    306\u001b[0m     data\u001b[38;5;241m.\u001b[39mappend({\n\u001b[1;32m    307\u001b[0m         \u001b[38;5;124m'\u001b[39m\u001b[38;5;124mstory_id\u001b[39m\u001b[38;5;124m'\u001b[39m: i,\n\u001b[1;32m    308\u001b[0m         \u001b[38;5;124m'\u001b[39m\u001b[38;5;124mstory_text\u001b[39m\u001b[38;5;124m'\u001b[39m: story\u001b[38;5;241m.\u001b[39mstrip(),\n\u001b[0;32m--> 309\u001b[0m         \u001b[38;5;124m'\u001b[39m\u001b[38;5;124mtokens\u001b[39m\u001b[38;5;124m'\u001b[39m: tokens,\n\u001b[1;32m    310\u001b[0m         \u001b[38;5;124m'\u001b[39m\u001b[38;5;124mtoken_length\u001b[39m\u001b[38;5;124m'\u001b[39m: \u001b[38;5;28mlen\u001b[39m(tokens)\n\u001b[1;32m    311\u001b[0m     })\n\u001b[1;32m    313\u001b[0m df \u001b[38;5;241m=\u001b[39m pd\u001b[38;5;241m.\u001b[39mDataFrame(data)\n\u001b[1;32m    314\u001b[0m df\u001b[38;5;241m.\u001b[39mto_parquet(parquet_path, index\u001b[38;5;241m=\u001b[39m\u001b[38;5;28;01mFalse\u001b[39;00m)\n",
      "File \u001b[0;32m_pydevd_bundle\\\\pydevd_cython.pyx:1697\u001b[0m, in \u001b[0;36m_pydevd_bundle.pydevd_cython.SafeCallWrapper.__call__\u001b[0;34m()\u001b[0m\n",
      "File \u001b[0;32m_pydevd_bundle\\\\pydevd_cython.pyx:634\u001b[0m, in \u001b[0;36m_pydevd_bundle.pydevd_cython.PyDBFrame.trace_dispatch\u001b[0;34m()\u001b[0m\n",
      "File \u001b[0;32m_pydevd_bundle\\\\pydevd_cython.pyx:1368\u001b[0m, in \u001b[0;36m_pydevd_bundle.pydevd_cython.PyDBFrame.trace_dispatch\u001b[0;34m()\u001b[0m\n",
      "File \u001b[0;32m_pydevd_bundle\\\\pydevd_cython.pyx:1311\u001b[0m, in \u001b[0;36m_pydevd_bundle.pydevd_cython.PyDBFrame.trace_dispatch\u001b[0;34m()\u001b[0m\n",
      "File \u001b[0;32m_pydevd_bundle\\\\pydevd_cython.pyx:494\u001b[0m, in \u001b[0;36m_pydevd_bundle.pydevd_cython.PyDBFrame.do_wait_suspend\u001b[0;34m()\u001b[0m\n",
      "File \u001b[0;32m/home/zeus/miniconda3/envs/cloudspace/lib/python3.10/site-packages/debugpy/_vendored/pydevd/pydevd.py:2185\u001b[0m, in \u001b[0;36mPyDB.do_wait_suspend\u001b[0;34m(self, thread, frame, event, arg, exception_type)\u001b[0m\n\u001b[1;32m   2182\u001b[0m             from_this_thread\u001b[38;5;241m.\u001b[39mappend(frame_custom_thread_id)\n\u001b[1;32m   2184\u001b[0m     \u001b[38;5;28;01mwith\u001b[39;00m \u001b[38;5;28mself\u001b[39m\u001b[38;5;241m.\u001b[39m_threads_suspended_single_notification\u001b[38;5;241m.\u001b[39mnotify_thread_suspended(thread_id, thread, stop_reason):\n\u001b[0;32m-> 2185\u001b[0m         keep_suspended \u001b[38;5;241m=\u001b[39m \u001b[38;5;28;43mself\u001b[39;49m\u001b[38;5;241;43m.\u001b[39;49m\u001b[43m_do_wait_suspend\u001b[49m\u001b[43m(\u001b[49m\u001b[43mthread\u001b[49m\u001b[43m,\u001b[49m\u001b[43m \u001b[49m\u001b[43mframe\u001b[49m\u001b[43m,\u001b[49m\u001b[43m \u001b[49m\u001b[43mevent\u001b[49m\u001b[43m,\u001b[49m\u001b[43m \u001b[49m\u001b[43marg\u001b[49m\u001b[43m,\u001b[49m\u001b[43m \u001b[49m\u001b[43mtrace_suspend_type\u001b[49m\u001b[43m,\u001b[49m\u001b[43m \u001b[49m\u001b[43mfrom_this_thread\u001b[49m\u001b[43m,\u001b[49m\u001b[43m \u001b[49m\u001b[43mframes_tracker\u001b[49m\u001b[43m)\u001b[49m\n\u001b[1;32m   2187\u001b[0m frames_list \u001b[38;5;241m=\u001b[39m \u001b[38;5;28;01mNone\u001b[39;00m\n\u001b[1;32m   2189\u001b[0m \u001b[38;5;28;01mif\u001b[39;00m keep_suspended:\n\u001b[1;32m   2190\u001b[0m     \u001b[38;5;66;03m# This means that we should pause again after a set next statement.\u001b[39;00m\n",
      "File \u001b[0;32m/home/zeus/miniconda3/envs/cloudspace/lib/python3.10/site-packages/debugpy/_vendored/pydevd/pydevd.py:2254\u001b[0m, in \u001b[0;36mPyDB._do_wait_suspend\u001b[0;34m(self, thread, frame, event, arg, trace_suspend_type, from_this_thread, frames_tracker)\u001b[0m\n\u001b[1;32m   2251\u001b[0m                 queue\u001b[38;5;241m.\u001b[39mput(internal_cmd)\n\u001b[1;32m   2252\u001b[0m                 wait_timeout \u001b[38;5;241m=\u001b[39m TIMEOUT_FAST\n\u001b[0;32m-> 2254\u001b[0m         \u001b[43mnotify_event\u001b[49m\u001b[38;5;241;43m.\u001b[39;49m\u001b[43mwait\u001b[49m\u001b[43m(\u001b[49m\u001b[43mwait_timeout\u001b[49m\u001b[43m)\u001b[49m\n\u001b[1;32m   2255\u001b[0m         notify_event\u001b[38;5;241m.\u001b[39mclear()\n\u001b[1;32m   2257\u001b[0m \u001b[38;5;28;01mfinally\u001b[39;00m:\n",
      "File \u001b[0;32m/home/zeus/miniconda3/envs/cloudspace/lib/python3.10/threading.py:607\u001b[0m, in \u001b[0;36mEvent.wait\u001b[0;34m(self, timeout)\u001b[0m\n\u001b[1;32m    605\u001b[0m signaled \u001b[38;5;241m=\u001b[39m \u001b[38;5;28mself\u001b[39m\u001b[38;5;241m.\u001b[39m_flag\n\u001b[1;32m    606\u001b[0m \u001b[38;5;28;01mif\u001b[39;00m \u001b[38;5;129;01mnot\u001b[39;00m signaled:\n\u001b[0;32m--> 607\u001b[0m     signaled \u001b[38;5;241m=\u001b[39m \u001b[38;5;28;43mself\u001b[39;49m\u001b[38;5;241;43m.\u001b[39;49m\u001b[43m_cond\u001b[49m\u001b[38;5;241;43m.\u001b[39;49m\u001b[43mwait\u001b[49m\u001b[43m(\u001b[49m\u001b[43mtimeout\u001b[49m\u001b[43m)\u001b[49m\n\u001b[1;32m    608\u001b[0m \u001b[38;5;28;01mreturn\u001b[39;00m signaled\n",
      "File \u001b[0;32m/home/zeus/miniconda3/envs/cloudspace/lib/python3.10/threading.py:324\u001b[0m, in \u001b[0;36mCondition.wait\u001b[0;34m(self, timeout)\u001b[0m\n\u001b[1;32m    322\u001b[0m \u001b[38;5;28;01melse\u001b[39;00m:\n\u001b[1;32m    323\u001b[0m     \u001b[38;5;28;01mif\u001b[39;00m timeout \u001b[38;5;241m>\u001b[39m \u001b[38;5;241m0\u001b[39m:\n\u001b[0;32m--> 324\u001b[0m         gotit \u001b[38;5;241m=\u001b[39m \u001b[43mwaiter\u001b[49m\u001b[38;5;241;43m.\u001b[39;49m\u001b[43macquire\u001b[49m\u001b[43m(\u001b[49m\u001b[38;5;28;43;01mTrue\u001b[39;49;00m\u001b[43m,\u001b[49m\u001b[43m \u001b[49m\u001b[43mtimeout\u001b[49m\u001b[43m)\u001b[49m\n\u001b[1;32m    325\u001b[0m     \u001b[38;5;28;01melse\u001b[39;00m:\n\u001b[1;32m    326\u001b[0m         gotit \u001b[38;5;241m=\u001b[39m waiter\u001b[38;5;241m.\u001b[39macquire(\u001b[38;5;28;01mFalse\u001b[39;00m)\n",
      "\u001b[0;31mKeyboardInterrupt\u001b[0m: "
     ]
    }
   ],
   "source": [
    "import torch\n",
    "from MattGPT import train_gpt, GPT\n",
    "\n",
    "torch.manual_seed(123)\n",
    "gpt = GPT(\n",
    "    vocab_size=50257,\n",
    "    context_length=128,\n",
    "    emb_dim=768,\n",
    "    ff_int_dim_mult=4,\n",
    "    n_heads=12,\n",
    "    n_layers=12,\n",
    "    drop_rate=0.1,\n",
    ")\n",
    "\n",
    "train_gpt(gpt, batch_size=2, num_epochs=1)"
   ]
  },
  {
   "cell_type": "code",
   "execution_count": null,
   "metadata": {},
   "outputs": [],
   "source": []
  },
  {
   "cell_type": "code",
   "execution_count": 2,
   "metadata": {},
   "outputs": [
    {
     "data": {
      "text/plain": [
       "150"
      ]
     },
     "execution_count": 2,
     "metadata": {},
     "output_type": "execute_result"
    }
   ],
   "source": [
    "len(paddings)"
   ]
  },
  {
   "cell_type": "code",
   "execution_count": null,
   "metadata": {},
   "outputs": [],
   "source": []
  }
 ],
 "metadata": {
  "kernelspec": {
   "display_name": "cloudspace",
   "language": "python",
   "name": "python3"
  },
  "language_info": {
   "codemirror_mode": {
    "name": "ipython",
    "version": 3
   },
   "file_extension": ".py",
   "mimetype": "text/x-python",
   "name": "python",
   "nbconvert_exporter": "python",
   "pygments_lexer": "ipython3",
   "version": "3.10.10"
  }
 },
 "nbformat": 4,
 "nbformat_minor": 2
}
